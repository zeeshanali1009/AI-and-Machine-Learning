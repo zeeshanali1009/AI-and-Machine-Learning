{
  "nbformat": 4,
  "nbformat_minor": 0,
  "metadata": {
    "colab": {
      "provenance": []
    },
    "kernelspec": {
      "name": "python3",
      "display_name": "Python 3"
    },
    "language_info": {
      "name": "python"
    }
  },
  "cells": [
    {
      "cell_type": "markdown",
      "source": [
        "# **Hope to Skills - Free AI Course**\n",
        "## **Lecture 09 - If Conditions & Loops in Python**\n",
        "This note book cover the following concepts\n",
        "1. Python Conditions and IF Statements\n",
        "2. Loops in python\n",
        "3. User defined Functions in python"
      ],
      "metadata": {
        "id": "VG6wE0Q9U17m"
      }
    },
    {
      "cell_type": "markdown",
      "source": [
        "## **Python if statement**\n",
        "\n",
        "In control statements, The if statement is the simplest form. It takes a condition and evaluates to either True or False.\n",
        "\n",
        "If the condition is True, then the True block of code will be executed, and if the condition is False, then the block of code is skipped, and The controller moves to the next line."
      ],
      "metadata": {
        "id": "r3twnuNrYAEf"
      }
    },
    {
      "cell_type": "markdown",
      "source": [
        "### Syntax:\n",
        "\n",
        "```python\n",
        "if(condition):\n",
        "    statement 1\n",
        "    statement 2\n",
        "    statement n\n",
        "```\n",
        "\n",
        "* An **`if`** statement should be preceded by the keyword **`if`** and ended with a colon **`:`**. The condition of an if statement can be written with or without round brackets **`()`**.\n",
        "\n",
        "* In Python, the body of the **`if`** statement is indicated by the indentation. The body starts with an indentation and the first unindented line marks the end.\n",
        "\n",
        "* Python interprets non-zero values as **`True`**. **`None`** and **`0`** are interpreted as **`False`**."
      ],
      "metadata": {
        "id": "DiC_AF-gYbI1"
      }
    },
    {
      "cell_type": "markdown",
      "source": [
        "![Screenshot_3.png](data:image/png;base64,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![Screenshot_1.png](data:image/png;base64,iVBORw0KGgoAAAANSUhEUgAAAXwAAADGCAYAAADRwTttAAAAAXNSR0IArs4c6QAAAARnQU1BAACxjwv8YQUAAAAJcEhZcwAAEnQAABJ0Ad5mH3gAABOfSURBVHhe7d15txTVucdxx7Vc/ucfLl/AfQsacRaHXKM3iTLKEBERmQUUREHAIGLMFRBRvAZBRRRBE73GKV4UlEGjJE4RwaCCyuTE6Xms3ref3VVN9zm7gQN9dlfX/n7Wehbdu3b3oaurfl1dVb3rOAUAcAKBDwCOIPABwBEEPgA4gsAHAEcQ+ADgCAIfABxB4AOAIwh8AHAEgQ8AjiDwAcARBD4AOILABwBHEPgA4AgCHwAcQeADgCMIfABwBIEPAI4g8AHAEQQ+ADiCwAcARxD4AOAIAh8AHEHgA4AjCHwAcASBDwCOIPDbUCmVVMm5k1V81NUqdu2FqqPP2arjml9QYan+56nYsF+qxJTrVO6V1f67BrQegd9GSsmESs2bYg4ZKrQVH321Knz0d/9dBFqHwG8T3rdfq/iYPsZAodqjMk89VP7U9vx3FLCPwG8D3g/7VGzopcYQodqrcq8977+rgH0Eftjl8yo5c4wxPKj2rOK/P/PfXMAuAj/kcm/+1RgaVPtWYsowdu2gJQj8kEtMGGgMDaq9q7D1I/8dBuwh8EOs+M2XxrCg2r/Syxf67zJgD4EfYrk3XjCGBdX+FZ88xH+XAXsI/BDLrHjYGBZU+5f8YA6wjcAPscxj841hQUWjANsI/BALU+Anpg5TyXlTVHL2OON0qvsF2Ebgh1iYAj+/+U39f/K+32ucTnW/ANsI/BAj8KNdgG0EfogR+NEuwDYCP8TaOfBleODUA7P1gGGZ5QtU4vYRqqPvOca+8XH9VPrhuQf73vq7Ln3k8TIktBxL6Oh/rkotmKkyKx4qP+4e8zhD/c5RqbsnlZ9voe6XWjir/H+6vGu/FhZgG4EfYu0a+Kn5M5TK53T/WoXP/lkfzn17lUP+YX9qPRlSIjboomrfwrZPdHvh84+V99MP+naglEro4QqCvrHrLlfF7Z/6U+sl59xc7dfqAmwj8EOsHQNftsQrHT1V2LJRpe6dojLL5qtSMq6b8//YpDr69NJ9U/Pv1G3KK6r826+p5F3jVfb5x8upntfN2eeWV583CHxR/Gq7Si+Zp5/X+7kS/hL6scG9dd/smmW6zdu/Rw88l5g0WD+X98Peug+GVhdgG4EfYu0Y+Pl339L9JJRr2xMTB1UHDAtC1/v6C30/v+GNur6pRbN1u5BdQ9IWBL4EfG3f2LUXqVIuq6fJB4i0Bf+H7Eur6vrqarBbqRUF2Ebgh1g7Bn6wxZ1Z81iXaaWOn/U02Z8ev+FKfVskp4/s0jfYJRSc9x8EfvHzj7v0Le7aoadlX1yp76cXz9H3hbdvt8o8+6iK3/QbfenBzo9tZQG2Efgh1o6BX8pldL/00vu7TPN+3F+Z9si9Kj7qt/q2MB2klev2CtklJPeDwM+/t75L3+IXlfHlc+tfrbbJ39C7hrz6YYjjY66pe2wrC7CNwA+xttzC97e2c2+82GVaEOLJebeq2MAL9G2RXvrfdf1kX3wgcdv1uq26hf/ltrq+Ut53O/W07F9W1E/r20uPWZOYPFh5u3fpPoVPt9T3aWEBthH4IdaOgR+cdVNKxPX+9aA999Yrul3IWTTSlt+0Vt/39u+u9pOSg72iFI/p0yt1W3DQNp+ru7avnPqpSiU9KTlnYqVNdhmN61ftI5WYfpPu4+37rq69lQXYRuCHWBgDX5P964aSfrHBFyvv5x91t1ImrYo7d+iQDUJZdrUEzxkf+evq2Tuy71/3LX+gBJKzxlb7BoEvZ+PIbhrpW/z2K31b6C338ha99NVb88Wi8vZ8o0/PlCplK7ua5Mye4DlbXYBtBH6IhTbwGwj6ypk1uVdW+60VEsLJe25RHX3OrnteOZiaf/t1v1dF4ZP3VfKOG+v6Vffhv/+OSj96n74dkL8VnJIpJR8U+Q1/86dWSODLj7o6Bpxf97ytLMA2Aj/EwhT4R1XlLe74iKsqp1Z2CvrOJfv0dd8hB4O7tg4etF1XaSsHt+5fflznvtXqd47uEx9x5WH/fisKsI3AD7G2D/wmVpfAj0ABthH4IUbgHywCHzh2BH6IEfgHKzlrnErdP10lOu3bb+cCbCPwQ0xGejQFBRWB6tvLf5cBewj8EMs+f3DwMCpaFR91tf8uA/YQ+CEmwwmbwoJq/0r+4Tb/XQbsIfDDrFRSsQGHOO2QatvKb/w//00G7CHwQ06u1mQKDKq9q5SI+e8wYA+BH3Kl2IFQ/TqUOvbKvbrGf3cBuwj8NtD5AiFU+1biztFK5XL+OwvYReC3CblsnylAqPYpGeWTXTloJQK/jciWfmzIJcYwocJcZ6vk3MnlN5Ate7QWgd9mZBjh9ENzVWzopYZgoUJVfXrpi6jnt2zy3z2gtQj8NpbfslFlnv2TSi+6S6UWzmzbWnrmf+gyTWvHkuGbc2tfqhvbHwgDAh8td9xxx+kC0LNYy9ByBD5gB2sZWo7AB+xgLUPLEfiAHaxlaDkCH7CDtQwtR+ADdrCWoeUIfMAO1jK0HIEP2MFahpYj8AE7WMvQcgQ+YAdrGVqOwAfsYC1DyxH4gB2sZWg5Ah+wg7UMLUfgA3awlqHlCHzADtYytByBD9jBWoaWI/ABO1jL0HIEPmAHaxlajsAH7GAtQ8sR+IAdrGVoOQIfsIO1DC1H4AN2sJah5Qh8wA7WMrQcgQ/YwVpm2d69e9XWrVupmgoC3zTNtdq+fbu/pADNR+BbNn78+GrAUVTnOu200/wlBWg+At8yAp86VBH46EkEvmVB4I8cOdJvAZRat24dgY8eR+BbRuDDhMCHDQS+ZQQ+TAh82EDgW0bgw4TAhw0EvmUEPkwIfNhA4FtG4MOEwIcNBL5lBD5MCHzYQOBbRuDDhMCHDQS+ZQQ+TAh82EDgW0bgw4TAhw0EvmUEPkwIfNhA4FtG4MOEwIcNBL5lBD5MCHzYQOBbRuDDhMCHDQS+ZQQ+TAh82EDgW0bgw4TAhw0EvmUEPkwIfNhA4PeAAwcOqCuuuEJNmDBBeZ7nt1Y0CvxSqaTuuOMO1atXL9XR0eG3ImqGDx+u+vfv3+U9PlTgL126VJ111llqx44dfgtwdAj8HrBz50698kqNHj1aFQoFf4o58IvFoho3blz1Mdu2bfOnIGrOOOMM/R5fdtllKhaL+a2NA3/RokXV5eLpp5/2W4GjQ+D3kBUrVlRX1LFjx6p8Pq/bOwe+tMs3gaDv8uXLdTuiaePGjerUU0/V73Xv3r1VIpHQ7abAX7x4cXW5mDhxot8KHD0Cvwc988wz6vjjj9cr7JgxY/SWfm3gy/0g7KWffEgg+iT0TznlFP2+n3/++SqdTncJ/CVLluj7UpMnT9ZtwLEi8HvY6tWrq6EvIS9b+3J7xIgR1dsyXT4c4I53331XnXTSSfr9P/PMM9XatWv1bQl82Wcvt6WmTp3qPwI4dgS+BatWraquwCeeeKL+94QTTqi2rVy50u8Jl0joB8vAySefXL0dlBzEl4P5QLMQ+JZIqHdeoaWefPJJvwdctHnzZuNyMWPGDH0wH2gmAt8iCffalZoDtBCbNm2qWy5ky77z6bxAMxD4lj3xxBN6P+2yZcv8FqAS+qeffrqaNm0au3HQYwh8AHAEgQ8AjiDwAcARBD4AOILABwBHEPgA4AgCHwAcQeAbFHftUJlH71PxG65UHX3ObruKj7hSpRbcqQrbPvFfEZqplEmr3AtPqfjoq1VH317G9yDMFRvcWyV/P0Hl3nndf0VwBYFfI/fiShUb0lt1XPOLyFRs4AUq/cg8pWrG5MfRKZY/QGPXXV4JTsO8bsvqf55K3D5ClWIH/FeJKCPwRT6n4iN/bV4hIlLxG36lvP17/BeM7krdPz1aQd+pYoMvVvn1r/qvFlHlfOCXDvyoYkMvNa4EUSvZ2i/++zP/leNIJW673jg/I1d9e6nss0v9V40ocjrwS6mEio++xrzwR7TkuIS3f7c/B3A46Qd/b5yPka1+56rCR+/5rx5R43TgZ1YsNi/0ES8JMRxe4YMNqqP/ucZ5GOWKDbqYYz4R5Wzge9/vMS7srpS3e5c/J9BIYuK1xnnnQuXfW+/PBUSJs4Gfe/OvxgXdlUo/dr8/J2AiZ624uHUfVGzgheWtIi7AEjXOBn5y7mTjgu5KJabd4M8JmGRfeMo431wqTtWMHmcDP37jfxkXcldKTsNDY6l7pxjnm0vl7f3OnxuICmcD37SAu1ZoLDFpkHGeuVTedzv9uYGoIPB7oOR89+T901V6+YJQ/1gHjVkP/GCIBtO0ztW5n35suWrbmlAEfvQQ+E0uORis5ALUxaLy9nyrOvqdY+wXhkJjtgO/lMuqwpZNxmm1lbxrgiqlUyr3xgvVNm/PN6rw+cd1/ZpRBH70EPhNrOScifq59Y91emCLq9mFxmwHvih8/L5xWm0l756k++bWv1pt837Yp4pffl7XrxlF4EcPgd/Eyv75CVXq+Nk4LYyFxsIa+Hr3zYDz9aBnQRuBjyNF4Deh4uP66cG1Cp98oEqxDn1bKjFhQLWPHrVy2QKVX/+ayr68WiVnj6t7Dqnk9JGVQbrKK3Vi6vUq+5cVKrVgZpd+zSo0FtrANxSBjyNF4DehUovn6P2opWRc77+X21Lp//mDnp6cOUaV4h3K+/kHVfjwXVXYXhmnPr9pbd3z5D/YoNuzr6xRqljQp8Vlnnq4rk8zC411J/Dlm50MSifjzNe2x353mW7Pvf7nunap9JJ5lceU+8h9IYGfWjhTFb/9WqlSSZUScZXf/KaKXX9F9XEyBr88TpapoM0U+LERV6n826+p0oGf9HN5P+5X2ecfr3xDqOl3qCLwo4fAb2Ll33pZr3yd2+UHLMWvtlfGUvfbUnNv0f+P7Isrq21B4Be3f6riI39Tbe+pQmPdCfz4uP76g77zuftykREhF0zpfGZNcfu/KmP1+PeFLDtS6fIGROLO0Srz5IN66O7aD4z4zQN13+R9t1XbOgd+bOglytv9jV7mkrPGlr9pDlSpP07TGxHZ1Y9V+x2uCPzoIfCbWKbAT8y4Sf+9xKTBde1SEvCy1V97X8guotp+PVVorLu7dLzvvtbvX21b/p+by9/SvtVb2LXXW4gNv0IHeWrR7GqbkLNvZNdf0CZV+PC9ygdG38rZXkcS+Nk1y/S3TflxXdAmlZx3q/6/1H5jOFQR+NFD4DexTIGfW/ey/nvBV/faSj0wS49KGNwPAl+20Gr79VShse4GfvbFp/TjYsP+U9+Xb2giOXO03p1X+OjvB/s+97gqZTMqdu2F1TZR/ObL6v2gsv/7jJ4WLBNHEviyZS/Hk2LDftml5IPmSF8bgR89BH4TyxT4+XWVqwiZLrKSuq/8Nbu8xRXcJ/DDo7uBL1vm8uGdXny3vp9aOKu8LOzVt9MLZ+rnlGGH5b4Eae6VNdXHSgnTQVs5PiC6E/hyppgEe6njJ2Mlbhla7XuoIvCjh8BvYpkCP/XQ3frvmS6hmNFfvRPV+wR+eHQ38KUKWz9UhX/9Q++v1wdr33xJt8cGXaQ/2BNTh+uDriI5Y1TdY0WzAt/78XuV3/C36v2jLQI/egj8Jlajg7YyzGzmiQfr2mSLXx/M3bG12kbgh8fRBH5q/gz9WP3NTZV0uAfTvJ++V8Uvyh8Ca1+qO24TlGhW4Oe3bFDFXV92HYKhm0XgRw+B38RqFPi5F2T/bknl33tbxScOUsl7btHX0pWf09eO2kngh8fRBL4ErN6VkknrM61qp8lplFp5euax+XXTpESzAj85q/K3TNd8kA+d4ADw4YrAjx4Cv4nVKPCl0gtn6YN3gfw7r3c5kEvgh8dRBX65ZAteZAynP8pZOCI+6rddpolmBb588KQfmK13I5XSSf3tQu/X9zxV/Gpb3cHiQxWBHz0Evs3q00vvz+0YcPBn8a0sNHa0gS9n6SSmDOtySqRUYvIQPc20q0XaTafjxm+8qvKY4AdTAy+oPH/NSQByym98wsDq/aDkgvXJ6Tep9CP3qlT5W2V8fP9u7eYh8KOHwHe40NjRBn6UisCPHgLf4UJjBD6BH0XOBr7pvHiXKjbkEn9OwKR2rBpXy9vHJQ6jxtnAT8652biQu1LxSYP9OQETPdCYYb65VHImGaLF2cDPvrTKuJC7UnIgD43J1u2xnsfeziVn8qhC3p8biApnA9/bt9u4oLtSMrYLDk1OgTTNOxcqs3KJPxcQJc4Gvkg/Ms+4sEe95OIrOLycDE/g4Fa+Hhcol/XnAqLE6cDXP3HvNBxt5GvAeZx90Q2JTmPeRL7KH3CFTWv9V4+ocTrwRaNfxka15KIb6B7TwHdRreTcyoX4EU3OB77QW/pHOL5IO5eM4Ijuk7HrE9NuMM7TKFXmueV6OAZEF4Hvk2GKUw8cvAJRlCr1x9v1hxqOQT6ncq89b5y/7V7xsX1VcdcO/4Uiygj8TuR0PBllMHn3JBUb/ivjChL2kh9VJWeP1xdD9/bv9l8ZmqGUiOlBzuQCJ7GxfdryoK4clI1PHqqyq/6kil9/UV7oPf/VIeoIfABwBIEPAI4g8AHAEQQ+ADiCwAcARxD4AOAIAh8AHEHgA4AjCHwAcASBDwCOIPABwBEEPgA4gsAHAEcQ+ADgCAIfABxB4AOAIwh8AHAEgQ8AjiDwAcARBD4AOILABwBHEPgA4AgCHwAcQeADgCMIfABwBIEPAI4g8AHAEQQ+ADiCwAcARxD4AOAIAh8AHEHgA4AjCHwAcASBDwBOUOr/Abj/OSkfO05gAAAAAElFTkSuQmCC))"
      ],
      "metadata": {
        "id": "cL6TW-Y3YzfX"
      }
    },
    {
      "cell_type": "code",
      "source": [
        "# Example 01 of an IF statement\n",
        "\n",
        "# Assume the student's grade\n",
        "student_score = 64\n",
        "\n",
        "# Check if the grade is equal to or higher than the passing threshold\n",
        "if student_score <= 65:\n",
        "    # If the condition is true, print a message indicating a passing grade\n",
        "    print(\"Students has scored passing grades\")"
      ],
      "metadata": {
        "id": "X9aK3F82ZDCl",
        "colab": {
          "base_uri": "https://localhost:8080/"
        },
        "outputId": "6c96b765-0650-4b8e-9462-8b7bd79ba2de"
      },
      "execution_count": null,
      "outputs": [
        {
          "output_type": "stream",
          "name": "stdout",
          "text": [
            "Students has scored passing grades\n"
          ]
        }
      ]
    },
    {
      "cell_type": "markdown",
      "source": [
        "if we change the grade to 50 or < 65 number, we will receive no output."
      ],
      "metadata": {
        "id": "7_78CmlsZPss"
      }
    },
    {
      "cell_type": "code",
      "source": [
        "# Example 02 of an IF statement\n",
        "\n",
        "# Assume the student's grade\n",
        "student_score = 50\n",
        "\n",
        "# Check if the grade is equal to or higher than the passing threshold\n",
        "if student_score >= 65:\n",
        "    # If the condition is true, print a message indicating a passing grade\n",
        "    print(\"Students has scored passing grades\")"
      ],
      "metadata": {
        "id": "nXSIOJtdZQcr"
      },
      "execution_count": null,
      "outputs": []
    },
    {
      "cell_type": "code",
      "source": [
        "# Example 03: Checking if a number is positive and printing an appropriate message\n",
        "\n",
        "# First example with a positive number\n",
        "positive_num = 3\n",
        "\n",
        "# Check if the number is greater than 0\n",
        "if positive_num > 0:\n",
        "    # If the condition is true, print a message indicating a positive number\n",
        "    print(positive_num, \"is a positive number.\")\n",
        "\n",
        "# Regardless of the condition, this line is always printed\n",
        "print(\"This is always printed.\")\n",
        "\n",
        "\n",
        "# Second example with a negative number\n",
        "negative_num = -1\n",
        "\n",
        "# Check if the number is greater than 0\n",
        "if negative_num < 0:\n",
        "    # Since the condition is false, this block is not executed\n",
        "    print(negative_num, \"is a negative number.\")\n",
        "\n",
        "# Regardless of the condition, this line is always printed\n",
        "print(\"This is also always printed.\")\n"
      ],
      "metadata": {
        "id": "3p2W1D15Zccp",
        "colab": {
          "base_uri": "https://localhost:8080/"
        },
        "outputId": "fdbd2c6a-8eff-459a-98b7-9dd016c2175e"
      },
      "execution_count": null,
      "outputs": [
        {
          "output_type": "stream",
          "name": "stdout",
          "text": [
            "3 is a positive number.\n",
            "This is always printed.\n",
            "-1 is a negative number.\n",
            "This is also always printed.\n"
          ]
        }
      ]
    },
    {
      "cell_type": "code",
      "source": [
        "# Example 04: Calculating the square of a number if it is greater than 6\n",
        "\n",
        "# Assume the given number\n",
        "given_number = 9\n",
        "\n",
        "# Check if the number is greater than 6\n",
        "if given_number > 6:\n",
        "    # If the condition is true, calculate the square of the number\n",
        "    square_result = given_number * given_number\n",
        "    print(\"The square of\", given_number, \"is:\", square_result)\n",
        "\n",
        "# Regardless of the condition, this line is always printed\n",
        "print('Next lines of code')"
      ],
      "metadata": {
        "id": "WsZdXETLZgrL",
        "colab": {
          "base_uri": "https://localhost:8080/"
        },
        "outputId": "039ab576-22ce-482c-fd29-40a919163e69"
      },
      "execution_count": null,
      "outputs": [
        {
          "output_type": "stream",
          "name": "stdout",
          "text": [
            "The square of 9 is: 81\n",
            "Next lines of code\n"
          ]
        }
      ]
    },
    {
      "cell_type": "markdown",
      "source": [
        "## **Shortcut for if statement (Short-hand if or one-line if)**"
      ],
      "metadata": {
        "id": "68dbleHHZpCD"
      }
    },
    {
      "cell_type": "code",
      "source": [
        "num1, num2 = 5, 6\n",
        "if(num1 < num2): print(\"num1 is less than num2\")"
      ],
      "metadata": {
        "id": "TatK_4s-Zslg",
        "colab": {
          "base_uri": "https://localhost:8080/"
        },
        "outputId": "954913b5-1336-4278-b4f8-e8f9c8c91e6d"
      },
      "execution_count": null,
      "outputs": [
        {
          "output_type": "stream",
          "name": "stdout",
          "text": [
            "num1 is less than num2\n"
          ]
        }
      ]
    },
    {
      "cell_type": "code",
      "source": [
        "# Example 05: Checking if the value of first_number is less than second_number\n",
        "\n",
        "# Assume two numbers, first_number and second_number\n",
        "first_number, second_number = 5, 6\n",
        "\n",
        "# Check if the value of first_number is less than second_number\n",
        "if (first_number < second_number): print(first_number, \"is less than\" ,second_number)\n",
        "    # If the condition is true, print a message indicating that first_number is less than second_number\n"
      ],
      "metadata": {
        "id": "CA30NYOKZvVh",
        "colab": {
          "base_uri": "https://localhost:8080/"
        },
        "outputId": "04df7845-695a-4462-b097-117982b77816"
      },
      "execution_count": null,
      "outputs": [
        {
          "output_type": "stream",
          "name": "stdout",
          "text": [
            "5 is less than 6\n"
          ]
        }
      ]
    },
    {
      "cell_type": "markdown",
      "source": [
        "**In the above-given code, the value 6 is greater than 5, this means the condition is False. We have instructed the interpreter to print only when the condition is True and hence it in this case, nothing gets printed. However, you can also instruct the interpreter what to do when the condition is False and this can be done using else statement.**"
      ],
      "metadata": {
        "id": "MLsd-hyEZzGm"
      }
    },
    {
      "cell_type": "markdown",
      "source": [
        "## **Python if-else statement**"
      ],
      "metadata": {
        "id": "kxzrxnYqaJKd"
      }
    },
    {
      "cell_type": "code",
      "source": [
        "# Example 6: Checking different cases based on the value of 'comparison_value'\n",
        "\n",
        "# Assume a comparison value 'comparison_value'\n",
        "comparison_value = 1\n",
        "\n",
        "# Check if the comparison value is greater than 3\n",
        "if comparison_value > 3:\n",
        "    # If the condition is true, print a message indicating Case 1\n",
        "    print(\"Case 1: The value is greater than 3\")\n",
        "\n",
        "# Check if the comparison value is less than or equal to 3\n",
        "if comparison_value <= 3:\n",
        "    # If the condition is true, print a message indicating Case 2\n",
        "    print(\"Case 2: The value is less than or equal to 3\")"
      ],
      "metadata": {
        "id": "_DlHblUaaQpQ",
        "colab": {
          "base_uri": "https://localhost:8080/"
        },
        "outputId": "e0c40952-6bb3-4b80-a08e-323704af023b"
      },
      "execution_count": null,
      "outputs": [
        {
          "output_type": "stream",
          "name": "stdout",
          "text": [
            "Case 2: The value is less than or equal to 3\n"
          ]
        }
      ]
    },
    {
      "cell_type": "markdown",
      "source": [
        "The if-else statement checks the condition and executes the if block of code when the condition is True, and if the condition is False, it will execute the else block of code."
      ],
      "metadata": {
        "id": "yQv8r9K3aVEZ"
      }
    },
    {
      "cell_type": "markdown",
      "source": [
        "Syntax :\n",
        "  \n",
        "  if condition:\n",
        "\n",
        "      statement 1\n",
        "\n",
        "  else:\n",
        "\n",
        "      statement 2"
      ],
      "metadata": {
        "id": "Q1acuWA-aXsb"
      }
    },
    {
      "cell_type": "markdown",
      "source": [
        "The if..else statement evaluates condition and will execute the body of if only\n",
        "when the test condition is True.\n",
        "\n",
        "If the condition is False, the body of else is executed. Indentation is used to separate the blocks."
      ],
      "metadata": {
        "id": "i_yvCbYqapEB"
      }
    },
    {
      "cell_type": "code",
      "source": [
        "# Example 7: Checking if a student passed or failed based on the 'student_grade'\n",
        "\n",
        "# Assume the student's grade\n",
        "student_grade = 60\n",
        "\n",
        "# Check if the student's grade is greater than or equal to the passing threshold\n",
        "if student_grade >= 65:\n",
        "    # If the condition is true, print a message indicating a passing grade\n",
        "    print(\"Student has scored Passing grade\")\n",
        "else:\n",
        "    # If the condition is false, print a message indicating a failing grade\n",
        "    print(\"Student has scored Failing grade\")"
      ],
      "metadata": {
        "id": "AId5pMEUayAt",
        "colab": {
          "base_uri": "https://localhost:8080/"
        },
        "outputId": "8244caf6-0cb3-4061-d5b1-64bd2d2ff9e1"
      },
      "execution_count": null,
      "outputs": [
        {
          "output_type": "stream",
          "name": "stdout",
          "text": [
            "Student has scored Failing grade\n"
          ]
        }
      ]
    },
    {
      "cell_type": "code",
      "source": [
        "# Example 8: Checking if a number is positive, negative, or zero and displaying an appropriate message\n",
        "\n",
        "#Prompt the user to enter a number\n",
        "given_number = input(\"Please enter any number: \")\n",
        "\n",
        "# Uncomment and try these two variations as well.\n",
        "# given_number = -5\n",
        "# given_number = 0\n",
        "\n",
        "# Check if the given number is greater than or equal to 0\n",
        "if int(given_number) > 0:\n",
        "    # If the condition is true, print a message indicating a positive number or zero\n",
        "    print(given_number, \"is Positive\")\n",
        "elif int(given_number) == 0:\n",
        "        print(given_number, \"is zero\")\n",
        "else:\n",
        "    # If the condition is false, print a message indicating a negative number\n",
        "    print(given_number, \"is a Negative number\")\n"
      ],
      "metadata": {
        "id": "SVtxaGp7a2N5",
        "colab": {
          "base_uri": "https://localhost:8080/"
        },
        "outputId": "a210421a-483c-4e04-fc6b-3763ad0a3dae"
      },
      "execution_count": null,
      "outputs": [
        {
          "output_type": "stream",
          "name": "stdout",
          "text": [
            "Please enter any number: -7\n",
            "-7 is a Negative number\n"
          ]
        }
      ]
    },
    {
      "cell_type": "code",
      "source": [
        "# Example 13: Password check function\n",
        "\n",
        "def password_check(user_password):\n",
        "    # Check if the provided password matches the expected password\n",
        "    if user_password == \"Python@99>\":\n",
        "        print(\"Correct password\")\n",
        "    else:\n",
        "        print(\"Incorrect password\")\n",
        "\n",
        "# Test the function with a correct password\n",
        "password_check(\"Python@99>\")\n",
        "# Output: Correct password\n",
        "\n",
        "# Test the function with an incorrect password\n",
        "password_check(\"Python99\")\n",
        "# Output: Incorrect password\n"
      ],
      "metadata": {
        "id": "GPvMGFKFa9y8",
        "colab": {
          "base_uri": "https://localhost:8080/"
        },
        "outputId": "ed1459f6-716c-4fe3-ac34-727992788879"
      },
      "execution_count": null,
      "outputs": [
        {
          "output_type": "stream",
          "name": "stdout",
          "text": [
            "Correct password\n",
            "Incorrect password\n"
          ]
        }
      ]
    },
    {
      "cell_type": "markdown",
      "source": [
        "## **What is Loop ?**\n",
        "\n",
        "A loop is a programming concept that allows for the **repetition** of a set of **instructions multiple times**."
      ],
      "metadata": {
        "id": "t9WZ53RaV8JX"
      }
    },
    {
      "cell_type": "markdown",
      "source": [
        "# **Python - For Loops**\n",
        "A for loop is used for iterating over a sequence (that is either a list, a tuple, a dictionary, a set, or a string).\n",
        "\n",
        "you'll learn to iterate over a sequence of elements using the different variations of for loop. We use a for loop when we want to repeat a code block for a fixed number of times."
      ],
      "metadata": {
        "id": "t-Na5a-utUFb"
      }
    },
    {
      "cell_type": "markdown",
      "source": [
        "![image.png](data:image/png;base64,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)"
      ],
      "metadata": {
        "id": "ITS7Oqi2llxQ"
      }
    },
    {
      "cell_type": "markdown",
      "source": [
        "## **Why use for loop?**\n",
        "\n",
        "\n",
        "**Definite Iteration**: When we know how many times we wanted to run a loop, then we use count-controlled loops such as for loops. It is also known as definite iteration. For example, Calculate the percentage of 50 students. here we know we need to iterate a loop 50 times (1 iteration for each student).\n",
        "\n",
        "\n",
        "**Reduces the code’s complexity**: Loop repeats a specific block of code a fixed number of times. It reduces the repetition of lines of code, thus reducing the complexity of the code. Using for loops and while loops we can automate and repeat tasks in an efficient manner.\n",
        "\n",
        "\n",
        "**Loop through sequences**: used for iterating over lists, strings, tuples, dictionaries, etc., and perform various operations on it, based on the conditions specified by the user."
      ],
      "metadata": {
        "id": "jraqFr4PkP-i"
      }
    },
    {
      "cell_type": "code",
      "source": [
        "# print the Hello World using the print statement\n",
        "print(\" Hello World\")\n",
        "print(\" Hello World\")\n",
        "print(\" Hello World\")\n",
        "print(\" Hello World\")\n",
        "print(\" Hello World\")\n",
        "print(\" Hello World\")\n",
        "print(\" Hello World\")\n",
        "print(\" Hello World\")\n",
        "print(\" Hello World\")\n",
        "print(\" Hello World\")"
      ],
      "metadata": {
        "id": "zexy479nw9Ql",
        "colab": {
          "base_uri": "https://localhost:8080/"
        },
        "outputId": "cb6f710d-5937-4087-8b78-57c5159566db"
      },
      "execution_count": null,
      "outputs": [
        {
          "output_type": "stream",
          "name": "stdout",
          "text": [
            " Hello World\n",
            " Hello World\n",
            " Hello World\n",
            " Hello World\n",
            " Hello World\n",
            " Hello World\n",
            " Hello World\n",
            " Hello World\n",
            " Hello World\n",
            " Hello World\n"
          ]
        }
      ]
    },
    {
      "cell_type": "code",
      "source": [
        "# print the string specific number of times\n",
        "for i in range(10):\n",
        "  print(\"Hello World\")"
      ],
      "metadata": {
        "id": "H3ypaLK_wfl4",
        "colab": {
          "base_uri": "https://localhost:8080/"
        },
        "outputId": "0fbc0387-ae29-4079-ee1d-f134cbfc2d81"
      },
      "execution_count": null,
      "outputs": [
        {
          "output_type": "stream",
          "name": "stdout",
          "text": [
            "Hello World\n",
            "Hello World\n",
            "Hello World\n",
            "Hello World\n",
            "Hello World\n",
            "Hello World\n",
            "Hello World\n",
            "Hello World\n",
            "Hello World\n",
            "Hello World\n"
          ]
        }
      ]
    },
    {
      "cell_type": "markdown",
      "source": [
        "Syntax :\n",
        "\n",
        "for element in sequence:\n",
        "\n",
        "    body of for loop"
      ],
      "metadata": {
        "id": "oFQ_bXMLlE16"
      }
    },
    {
      "cell_type": "markdown",
      "source": [
        "First, element is the variable that takes the value of the item inside the sequence on each iteration.\n",
        "\n",
        "Second, all the statements in the body of the for loop are executed with the same value. The body of for loop is separated from the rest of the code using indentation.\n",
        "\n",
        "Finally, loop continues until we reach the last item in the sequence. The body of for loop is separated from the rest of the code using indentation."
      ],
      "metadata": {
        "id": "QB64FKN8lLcN"
      }
    },
    {
      "cell_type": "code",
      "source": [
        "# Example : Iterating through a list of words using a for loop\n",
        "\n",
        "# Assume a list of words\n",
        "number_list = ['one', 'two', 'three', 'four', 'five']\n",
        "\n",
        "# Iterate through each word in the list\n",
        "for number in number_list:\n",
        "    # Print each word\n",
        "    print(number)\n"
      ],
      "metadata": {
        "id": "QhAOXw2ClNo_",
        "colab": {
          "base_uri": "https://localhost:8080/"
        },
        "outputId": "1cc03e0e-60a8-40ce-b3f3-1f2064bab24c"
      },
      "execution_count": null,
      "outputs": [
        {
          "output_type": "stream",
          "name": "stdout",
          "text": [
            "one\n",
            "two\n",
            "three\n",
            "four\n",
            "five\n"
          ]
        }
      ]
    },
    {
      "cell_type": "markdown",
      "source": [
        "![image.png](data:image/png;base64,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)"
      ],
      "metadata": {
        "id": "ZRr3pqvuljJQ"
      }
    },
    {
      "cell_type": "code",
      "source": [
        "# Example : Calculating the average of a list of numbers\n",
        "\n",
        "# Assume a list of numbers\n",
        "number_list = [10, 20, 30, 40, 50]\n",
        "\n",
        "# Initialize variables for sum and list size\n",
        "total_sum = 0\n",
        "list_size = len(number_list)\n",
        "\n",
        "# Iterate through each number in the list\n",
        "for num in number_list:\n",
        "    # Accumulate the sum of numbers\n",
        "    total_sum = total_sum + num\n",
        "    print(total_sum)\n",
        "    # total_sum += num\n",
        "\n",
        "# Calculate the average by dividing the sum by the number of items in the list\n",
        "average = total_sum / list_size\n",
        "\n",
        "# Print the calculated average\n",
        "print(\"The average of the numbers is:\", average)"
      ],
      "metadata": {
        "id": "3beq9hxOlPqH",
        "colab": {
          "base_uri": "https://localhost:8080/"
        },
        "outputId": "d291cf88-b1ee-44c9-b3d2-070e84ac34dc"
      },
      "execution_count": null,
      "outputs": [
        {
          "output_type": "stream",
          "name": "stdout",
          "text": [
            "10\n",
            "30\n",
            "60\n",
            "100\n",
            "150\n",
            "The average of the numbers is: 30.0\n"
          ]
        }
      ]
    },
    {
      "cell_type": "code",
      "source": [
        "# Print each fruit in a fruit list:\n",
        "fruits = [\"apple\", \"banana\", \"cherry\"]\n",
        "for item in fruits:\n",
        "  print(item)"
      ],
      "metadata": {
        "id": "hwXKXwY_tZib"
      },
      "execution_count": null,
      "outputs": []
    },
    {
      "cell_type": "code",
      "source": [
        "# printing the List\n",
        "print(fruits)"
      ],
      "metadata": {
        "id": "-0D6p-JYXcMO"
      },
      "execution_count": null,
      "outputs": []
    },
    {
      "cell_type": "code",
      "source": [
        "# Print each value in a my_list, list:\n",
        "\n",
        "my_list = [10, 20, 30, 40, 50, 60]\n",
        "\n",
        "for number in my_list: #<--- x is a variable, who's scope is limited to the for loop. x can be named anything you'd like\n",
        "    print(number)"
      ],
      "metadata": {
        "id": "LDhDW2S506EM",
        "colab": {
          "base_uri": "https://localhost:8080/"
        },
        "outputId": "e580509c-ad4d-4d27-a36b-d9373c276f31"
      },
      "execution_count": null,
      "outputs": [
        {
          "output_type": "stream",
          "name": "stdout",
          "text": [
            "10\n",
            "20\n",
            "30\n",
            "40\n",
            "50\n",
            "60\n"
          ]
        }
      ]
    },
    {
      "cell_type": "markdown",
      "source": [
        "## **Looping Through a String**\n",
        "Even strings are iterable objects, they contain a sequence of characters:\n",
        "\n",
        "Loop through the letters in the word \"banana\":"
      ],
      "metadata": {
        "id": "kqaxJJqqwgz9"
      }
    },
    {
      "cell_type": "code",
      "source": [
        "# Example: Iterating through each character in the word \"banana\"\n",
        "\n",
        "# Assume a word\n",
        "word_to_iterate = \"banana\"\n",
        "\n",
        "# Iterate through each character (chars) in the word\n",
        "for character in word_to_iterate:\n",
        "    # Print each character\n",
        "    print(character)"
      ],
      "metadata": {
        "id": "XIcJ9JuYwoY9",
        "colab": {
          "base_uri": "https://localhost:8080/"
        },
        "outputId": "b63edab1-8e3a-417c-ce50-10f69668939d"
      },
      "execution_count": null,
      "outputs": [
        {
          "output_type": "stream",
          "name": "stdout",
          "text": [
            "b\n",
            "a\n",
            "n\n",
            "a\n",
            "n\n",
            "a\n"
          ]
        }
      ]
    },
    {
      "cell_type": "markdown",
      "source": [
        "# **The range() function**\n",
        "In most cases, we will want to loop through a predetermined list. However, we can also generate a list to loop over \"on the fly\" with the range() function"
      ],
      "metadata": {
        "id": "cyvjlX4V1ugF"
      }
    },
    {
      "cell_type": "code",
      "source": [
        "for i in range(8):\n",
        "    print(i)"
      ],
      "metadata": {
        "id": "iNY8bbYu12CH"
      },
      "execution_count": null,
      "outputs": []
    },
    {
      "cell_type": "code",
      "source": [
        "# Printing Numbers\n",
        "for num in range(1, 6):\n",
        "    print(num)\n"
      ],
      "metadata": {
        "id": "I9LT4_v3cMK3"
      },
      "execution_count": null,
      "outputs": []
    },
    {
      "cell_type": "code",
      "source": [
        "# Using the For  loop to print the Items of list and their index\n",
        "my_list = [10, 20, 30, 40, 50, 60]\n",
        "for i in range(len(my_list)):\n",
        "    print(i, my_list[i])"
      ],
      "metadata": {
        "id": "aHNcyBWH2Z4d",
        "colab": {
          "base_uri": "https://localhost:8080/"
        },
        "outputId": "72170220-28cf-4db6-e7a7-2c4a2b99f0e1"
      },
      "execution_count": null,
      "outputs": [
        {
          "output_type": "stream",
          "name": "stdout",
          "text": [
            "0 10\n",
            "1 20\n",
            "2 30\n",
            "3 40\n",
            "4 50\n",
            "5 60\n"
          ]
        }
      ]
    },
    {
      "cell_type": "code",
      "source": [
        "# Getting the Length of List using the len() function\n",
        "my_list = [10, 20, 30, 40, 50, 60]\n",
        "len(my_list)\n"
      ],
      "metadata": {
        "id": "94sOpJe02GOV"
      },
      "execution_count": null,
      "outputs": []
    },
    {
      "cell_type": "markdown",
      "source": [
        "## **Looping through a dictionary**\n",
        "keys()\n",
        "You can step through the keys of a dictionary."
      ],
      "metadata": {
        "id": "DcUI_oav-9Yw"
      }
    },
    {
      "cell_type": "code",
      "source": [
        "# printing the values from the Dictionary\n",
        "my_dict = { \"brand\": \"Ford\",  \"model\": \"Mustang\",  3 : 1964,  \"year\": 2020}\n",
        "\n",
        "for value in my_dict.values():\n",
        "    print(value)"
      ],
      "metadata": {
        "id": "0XpFhBHV_Ca3",
        "colab": {
          "base_uri": "https://localhost:8080/"
        },
        "outputId": "f76f83f6-d1d1-49c0-859b-e0256f8cdf7a"
      },
      "execution_count": null,
      "outputs": [
        {
          "output_type": "stream",
          "name": "stdout",
          "text": [
            "Ford\n",
            "Mustang\n",
            "1964\n",
            "2020\n"
          ]
        }
      ]
    },
    {
      "cell_type": "code",
      "source": [
        "# Example: Printing keys from the dictionary\n",
        "\n",
        "# Assume a dictionary with information about a car\n",
        "car_info_dict = {\"brand\": \"Ford\", \"model\": \"Mustang\", \"year\": 2020}\n",
        "\n",
        "# Iterate through each key in the dictionary\n",
        "for car_key in car_info_dict.keys():\n",
        "    # Print each key\n",
        "    print(car_key)\n"
      ],
      "metadata": {
        "id": "H6hmyGsr2qru",
        "colab": {
          "base_uri": "https://localhost:8080/"
        },
        "outputId": "7d6a2f6c-be18-4900-ab16-81428e331bce"
      },
      "execution_count": null,
      "outputs": [
        {
          "output_type": "stream",
          "name": "stdout",
          "text": [
            "brand\n",
            "model\n",
            "year\n"
          ]
        }
      ]
    },
    {
      "cell_type": "code",
      "source": [
        "# Example 16: Finding Even Numbers in a List\n",
        "\n",
        "# Assume a list of numbers\n",
        "list_of_numbers = [1, 2, 3, 4, 5, 6, 7, 8, 9, 10]\n",
        "\n",
        "# Iterate through each number in the list\n",
        "for current_number in list_of_numbers:\n",
        "    # Check if the current number is even\n",
        "    if current_number % 2 == 0:\n",
        "        # If the condition is true, print a message indicating that the number is even\n",
        "        print(\"Number is even:\", current_number)\n",
        "    else:\n",
        "        print(\"Number is not even:\", current_number)"
      ],
      "metadata": {
        "id": "RL0a5B1UfU7g",
        "colab": {
          "base_uri": "https://localhost:8080/"
        },
        "outputId": "d665d1d5-8735-4b7b-d33e-e1264f4a9951"
      },
      "execution_count": null,
      "outputs": [
        {
          "output_type": "stream",
          "name": "stdout",
          "text": [
            "Number is not even: 1\n",
            "Number is even: 2\n",
            "Number is not even: 3\n",
            "Number is even: 4\n",
            "Number is not even: 5\n",
            "Number is even: 6\n",
            "Number is not even: 7\n",
            "Number is even: 8\n",
            "Number is not even: 9\n",
            "Number is even: 10\n"
          ]
        }
      ]
    },
    {
      "cell_type": "markdown",
      "source": [
        "# **Python While Loops**\n",
        "With the while loop we can execute a set of statements as long as a condition is true."
      ],
      "metadata": {
        "id": "MlfHWNi8_7e3"
      }
    },
    {
      "cell_type": "code",
      "source": [
        "# Example: Printing numbers as long as they are less than 60 using a while loop\n",
        "\n",
        "# Initialize a counter variable\n",
        "current_number = 1\n",
        "\n",
        "# Continue looping as long as the current number is less than or equal to 60\n",
        "while current_number <= 60:\n",
        "    # Print the current number\n",
        "    print(current_number)\n",
        "\n",
        "    # Increment the current number by 1 in each iteration\n",
        "    current_number = current_number + 1\n",
        "    # current_number +=1   # this can also be used\n"
      ],
      "metadata": {
        "id": "zncW2ay7AFww"
      },
      "execution_count": null,
      "outputs": []
    },
    {
      "cell_type": "code",
      "source": [
        "# Example : Using a while loop to print \"Hello\" multiple times\n",
        "\n",
        "# Initialize a counter variable\n",
        "loop_counter = 0\n",
        "\n",
        "# Continue the loop as long as the counter is less than 3\n",
        "while loop_counter < 3:\n",
        "    # Print the message along with the current count\n",
        "    print(\"Print hello\", loop_counter)\n",
        "\n",
        "    # Increment the counter by 1 in each iteration\n",
        "    loop_counter = loop_counter + 1\n"
      ],
      "metadata": {
        "id": "jOMEftBJZJrv"
      },
      "execution_count": null,
      "outputs": []
    },
    {
      "cell_type": "code",
      "source": [
        "# Example: User Input Validation for a Password\n",
        "\n",
        "# Initialize an empty string for the user's password\n",
        "user_password = \"\"\n",
        "\n",
        "# Continue prompting for the password until it matches the expected password \"secret\"\n",
        "while user_password != \"secret\":\n",
        "    # Take user input for the password\n",
        "    user_password = input(\"Enter the password: \")\n",
        "\n",
        "    # Check if the entered password is correct\n",
        "    if user_password == \"secret\":\n",
        "        # If the password is correct, grant access\n",
        "        print(\"Access granted!\")\n",
        "    else:\n",
        "        # If the password is incorrect, deny access\n",
        "        print(\"Access denied!\")\n",
        "\n"
      ],
      "metadata": {
        "id": "jspGLbuhbeC_"
      },
      "execution_count": null,
      "outputs": []
    },
    {
      "cell_type": "code",
      "source": [
        "# Example : Summing Numbers from 1 to 10 using a while loop\n",
        "\n",
        "# Initialize a variable to store the running total\n",
        "sum_of_numbers = 0\n",
        "\n",
        "# Start with the first number\n",
        "current_number = 1\n",
        "\n",
        "# Continue adding numbers to the total as long as the current number is less than or equal to 10\n",
        "while current_number <= 10:\n",
        "    # Add the current number to the running total\n",
        "    sum_of_numbers = sum_of_numbers + current_number\n",
        "\n",
        "    # Increment the current number by 1 in each iteration\n",
        "    current_number = current_number + 1\n",
        "\n",
        "# Print the final sum\n",
        "print(\"The sum is:\", sum_of_numbers)"
      ],
      "metadata": {
        "id": "6AF-zjg7bwb4"
      },
      "execution_count": null,
      "outputs": []
    }
  ]
}